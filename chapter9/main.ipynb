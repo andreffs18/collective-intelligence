{
 "cells": [
  {
   "cell_type": "code",
   "execution_count": 1,
   "metadata": {
    "collapsed": false
   },
   "outputs": [],
   "source": [
    "from finders.dataset_finder import DatasetFinder\n",
    "age_dataset = DatasetFinder.load_match(\"dataset/agesonly.csv\")\n",
    "match_dataset = DatasetFinder.load_match(\"dataset/matchmaker.csv\")"
   ]
  },
  {
   "cell_type": "code",
   "execution_count": 2,
   "metadata": {
    "collapsed": false
   },
   "outputs": [
    {
     "data": {
      "image/png": "[encoded data removed]",
      "text/plain": [
       "<Figure size 432x288 with 1 Axes>"
      ]
     },
     "metadata": {},
     "output_type": "display_data"
    }
   ],
   "source": [
    "from services.plot_dataset_service import PlotDatasetService\n",
    "PlotDatasetService(sorted(age_dataset, key=lambda x: x.data[0])).call()"
   ]
  },
  {
   "cell_type": "code",
   "execution_count": 3,
   "metadata": {
    "collapsed": false
   },
   "outputs": [
    {
     "data": {
      "text/plain": [
       "{0: [26.914529914529915, 35.888888888888886],\n",
       " 1: [35.48041775456919, 33.01566579634465]}"
      ]
     },
     "execution_count": 3,
     "metadata": {},
     "output_type": "execute_result"
    }
   ],
   "source": [
    "from services.linear_averages_service import LinearAveragesService\n",
    "LinearAveragesService(age_dataset).call()"
   ]
  },
  {
   "cell_type": "code",
   "execution_count": 4,
   "metadata": {
    "collapsed": false
   },
   "outputs": [],
   "source": [
    "from models import MatchRow\n",
    "\n",
    "# load_numerical_match\n",
    "def yesno(value):\n",
    "    return {'yes': 1, 'no': -1}.get(value, 0)\n",
    "    \n",
    "def matchcount(interest1, interest2):\n",
    "    return len(set(interest1.split(':')).intersection(set(interest2.split(':'))))\n",
    "\n",
    "data = DatasetFinder.load_match(\"dataset/matchmaker.csv\")\n",
    "newrows = []\n",
    "for row in data:\n",
    "    d = row.data\n",
    "    data = [float(d[0]), yesno(d[1]), yesno(d[2]), \n",
    "            float(d[5]), yesno(d[6]), yesno(d[7]),\n",
    "            matchcount(d[3], d[8]), row.match]\n",
    "    newrows.append(MatchRow(data))"
   ]
  },
  {
   "cell_type": "code",
   "execution_count": 9,
   "metadata": {
    "collapsed": true
   },
   "outputs": [],
   "source": [
    "from services.scale_data_service import ScaleDataService\n",
    "scalled_data, scale_f = ScaleDataService(newrows).call()"
   ]
  },
  {
   "cell_type": "code",
   "execution_count": 11,
   "metadata": {
    "collapsed": false
   },
   "outputs": [
    {
     "data": {
      "text/plain": [
       "[0.65625, 1, 0, 0.78125, 0, 1, 0]"
      ]
     },
     "execution_count": 11,
     "metadata": {},
     "output_type": "execute_result"
    }
   ],
   "source": [
    "scalled_data[0].data\n"
   ]
  },
  {
   "cell_type": "code",
   "execution_count": 13,
   "metadata": {
    "collapsed": false
   },
   "outputs": [
    {
     "data": {
      "text/plain": [
       "[39.0, 1, -1, 43.0, -1, 1, 0]"
      ]
     },
     "execution_count": 13,
     "metadata": {},
     "output_type": "execute_result"
    }
   ],
   "source": [
    "newrows[0].data"
   ]
  },
  {
   "cell_type": "code",
   "execution_count": null,
   "metadata": {
    "collapsed": true
   },
   "outputs": [],
   "source": []
  }
 ],
 "metadata": {
  "kernelspec": {
   "display_name": "Python 2",
   "language": "python",
   "name": "python2"
  },
  "language_info": {
   "codemirror_mode": {
    "name": "ipython",
    "version": 2
   },
   "file_extension": ".py",
   "mimetype": "text/x-python",
   "name": "python",
   "nbconvert_exporter": "python",
   "pygments_lexer": "ipython2",
   "version": "2.7.10"
  }
 },
 "nbformat": 4,
 "nbformat_minor": 2
}
