{
 "cells": [
  {
   "cell_type": "markdown",
   "metadata": {},
   "source": [
    "# Examples"
   ]
  },
  {
   "cell_type": "code",
   "execution_count": 1,
   "metadata": {
    "collapsed": false
   },
   "outputs": [
    {
     "name": "stdout",
     "output_type": "stream",
     "text": [
      "1.0  1.0 Distance of me-Andre|Andre-me\n",
      "0.01215  -0.24936 Distance of me-Silva|Silva-me\n",
      "0.01928  0.48466 Distance of me-Ferreiro|Ferreiro-me\n",
      "0.00691  -0.73521 Distance of me-Filipe|Filipe-me\n",
      "0.00578  -0.31968 Distance of Andre-Silva|Silva-Andre\n",
      "0.00999  0.4417 Distance of Andre-Ferreiro|Ferreiro-Andre\n",
      "0.00492  -0.17039 Distance of Andre-Filipe|Filipe-Andre\n",
      "0.00547  -0.09756 Distance of Silva-Ferreiro|Ferreiro-Silva\n",
      "0.00338  -0.61363 Distance of Silva-Filipe|Filipe-Silva\n",
      "0.00357  -0.2378 Distance of Ferreiro-Filipe|Filipe-Ferreiro\n"
     ]
    }
   ],
   "source": [
    "from recommendations import (critics, sim_euclidean, sim_pearson, \n",
    "                             top_matches, get_recommendations, transform_prefs, \n",
    "                             calculate_similar_items, get_recommended_items)\n",
    "\n",
    "distances = []\n",
    "for critic1 in critics.keys():\n",
    "    for critic2 in critics.keys():\n",
    "        if critic1 != critic2:\n",
    "            d = round(sim_euclidean(critics, critic1, critic2), 5)\n",
    "            d2 = round(sim_pearson(critics, critic1, critic2), 5)\n",
    "            if d not in distances:\n",
    "                distances.append(d)\n",
    "                print \"{}  {} Distance of {}-{}|{}-{}\".format(d,d2, critic1, critic2, critic2, critic1)"
   ]
  },
  {
   "cell_type": "code",
   "execution_count": 2,
   "metadata": {
    "collapsed": false
   },
   "outputs": [
    {
     "data": {
      "text/plain": [
       "[(1.0, 'me'),\n",
       " (0.009994003597841295, 'Ferreiro'),\n",
       " (0.005775672865888876, 'Silva'),\n",
       " (0.004923682914820286, 'Filipe')]"
      ]
     },
     "execution_count": 2,
     "metadata": {},
     "output_type": "execute_result"
    }
   ],
   "source": [
    "top_matches(critics, 'Andre', similarity=sim_euclidean)"
   ]
  },
  {
   "cell_type": "code",
   "execution_count": 3,
   "metadata": {
    "collapsed": false
   },
   "outputs": [
    {
     "data": {
      "text/plain": [
       "[(8.487114183137075, 'Movie 8'),\n",
       " (6.25181999808916, 'Movie 5'),\n",
       " (5.12164827227436, 'Movie 4'),\n",
       " (3.4247940668991004, 'Movie 6'),\n",
       " (2.801219394030439, 'Movie 1')]"
      ]
     },
     "execution_count": 3,
     "metadata": {},
     "output_type": "execute_result"
    }
   ],
   "source": [
    "get_recommendations(critics, \"me\", similarity=sim_euclidean)"
   ]
  },
  {
   "cell_type": "code",
   "execution_count": 4,
   "metadata": {
    "collapsed": false
   },
   "outputs": [
    {
     "data": {
      "text/plain": [
       "{'Movie 1': {'Andre': 2.8, 'Ferreiro': 0.8, 'Filipe': 0.3, 'Silva': 7.5},\n",
       " 'Movie 10': {'Andre': 1.8,\n",
       "  'Ferreiro': 4.3,\n",
       "  'Filipe': 7.5,\n",
       "  'Silva': 2.1,\n",
       "  'me': 1.8},\n",
       " 'Movie 2': {'Andre': 3.6,\n",
       "  'Ferreiro': 0.1,\n",
       "  'Filipe': 9.2,\n",
       "  'Silva': 2.4,\n",
       "  'me': 3.6},\n",
       " 'Movie 3': {'Andre': 9.5,\n",
       "  'Ferreiro': 9.7,\n",
       "  'Filipe': 1.4,\n",
       "  'Silva': 2.0,\n",
       "  'me': 9.5},\n",
       " 'Movie 4': {'Andre': 5.1, 'Ferreiro': 6.4, 'Filipe': 10.0, 'Silva': 2.1},\n",
       " 'Movie 5': {'Andre': 6.4, 'Ferreiro': 0.9, 'Filipe': 9.5, 'Silva': 0.7},\n",
       " 'Movie 6': {'Andre': 3.4, 'Ferreiro': 1.3, 'Filipe': 5.6, 'Silva': 7.6},\n",
       " 'Movie 7': {'Andre': 2.5,\n",
       "  'Ferreiro': 7.7,\n",
       "  'Filipe': 4.5,\n",
       "  'Silva': 7.3,\n",
       "  'me': 2.5},\n",
       " 'Movie 8': {'Andre': 8.6, 'Ferreiro': 5.8, 'Filipe': 4.9, 'Silva': 5.5},\n",
       " 'Movie 9': {'Andre': 5.5,\n",
       "  'Ferreiro': 3.2,\n",
       "  'Filipe': 2.3,\n",
       "  'Silva': 6.2,\n",
       "  'me': 5.5}}"
      ]
     },
     "execution_count": 4,
     "metadata": {},
     "output_type": "execute_result"
    }
   ],
   "source": [
    "movies = transform_prefs(critics)\n",
    "movies"
   ]
  },
  {
   "cell_type": "code",
   "execution_count": 5,
   "metadata": {
    "collapsed": false
   },
   "outputs": [
    {
     "data": {
      "text/plain": [
       "[(0.9088308210704511, 'Movie 4'),\n",
       " (0.6432645897462544, 'Movie 2'),\n",
       " (0.5698003059209366, 'Movie 5'),\n",
       " (0.21912579979515343, 'Movie 7'),\n",
       " (-0.027319958221966156, 'Movie 6')]"
      ]
     },
     "execution_count": 5,
     "metadata": {},
     "output_type": "execute_result"
    }
   ],
   "source": [
    "top_matches(movies, \"Movie 10\")#, similarity=sim_euclidean)"
   ]
  },
  {
   "cell_type": "code",
   "execution_count": 6,
   "metadata": {
    "collapsed": false
   },
   "outputs": [
    {
     "data": {
      "text/plain": [
       "[(5.088815432222358, 'Movie 8'),\n",
       " (4.671177034230812, 'Movie 1'),\n",
       " (4.105156501992377, 'Movie 6'),\n",
       " (3.6422392746199765, 'Movie 5'),\n",
       " (3.420501655180415, 'Movie 4')]"
      ]
     },
     "execution_count": 6,
     "metadata": {},
     "output_type": "execute_result"
    }
   ],
   "source": [
    "get_recommended_items(critics, calculate_similar_items(critics), 'me')"
   ]
  },
  {
   "cell_type": "code",
   "execution_count": null,
   "metadata": {
    "collapsed": true
   },
   "outputs": [],
   "source": []
  }
 ],
 "metadata": {
  "kernelspec": {
   "display_name": "Python 2",
   "language": "python",
   "name": "python2"
  },
  "language_info": {
   "codemirror_mode": {
    "name": "ipython",
    "version": 2
   },
   "file_extension": ".py",
   "mimetype": "text/x-python",
   "name": "python",
   "nbconvert_exporter": "python",
   "pygments_lexer": "ipython2",
   "version": "2.7.10"
  }
 },
 "nbformat": 4,
 "nbformat_minor": 0
}
