{
 "cells": [
  {
   "cell_type": "code",
   "execution_count": 1,
   "metadata": {
    "collapsed": false
   },
   "outputs": [],
   "source": [
    "import os\n",
    "import feedparser\n",
    "from features import get_words, entry_features\n",
    "from services.fisher_classifier_service import FisherClassifierService"
   ]
  },
  {
   "cell_type": "code",
   "execution_count": 2,
   "metadata": {
    "collapsed": false
   },
   "outputs": [],
   "source": [
    "feeds = \"\".join(open(os.path.join(os.getcwd(), \"search.xml\")).readlines())\n",
    "entries = feedparser.parse(feeds)['entries']"
   ]
  },
  {
   "cell_type": "code",
   "execution_count": 3,
   "metadata": {
    "collapsed": false
   },
   "outputs": [
    {
     "data": {
      "text/plain": [
       "{u'00pm': 1,\n",
       " u'Publisher:Shetan Noir, the zombie belly dancer! - MySpace Blog': 1,\n",
       " u'Title:baby': 1,\n",
       " u'Title:boy': 1,\n",
       " u'Title:new': 1,\n",
       " u'about': 1,\n",
       " u'and': 1,\n",
       " u'anthem': 1,\n",
       " u'baby': 1,\n",
       " u'ball': 1,\n",
       " u'brought': 1,\n",
       " u'half': 1,\n",
       " u'have': 1,\n",
       " u'held': 1,\n",
       " u'him': 1,\n",
       " u'home': 1,\n",
       " u'month': 1,\n",
       " u'new': 1,\n",
       " u'normal': 1,\n",
       " u'old': 1,\n",
       " u'orange': 1,\n",
       " u'pattern': 1,\n",
       " u'python': 1,\n",
       " u'shaded': 1,\n",
       " u'since': 1,\n",
       " u'this': 1,\n",
       " u'time': 1,\n",
       " u'tonight': 1}"
      ]
     },
     "execution_count": 3,
     "metadata": {},
     "output_type": "execute_result"
    }
   ],
   "source": [
    "entry_features(entries[0])"
   ]
  },
  {
   "cell_type": "code",
   "execution_count": 4,
   "metadata": {
    "collapsed": false
   },
   "outputs": [
    {
     "data": {
      "text/plain": [
       "{'and': 1,\n",
       " 'are': 1,\n",
       " 'between': 1,\n",
       " 'characters': 1,\n",
       " 'check': 1,\n",
       " 'only': 1,\n",
       " 'returned': 1,\n",
       " 'simple': 1,\n",
       " 'test': 1,\n",
       " 'this': 1,\n",
       " 'words': 1}"
      ]
     },
     "execution_count": 4,
     "metadata": {},
     "output_type": "execute_result"
    }
   ],
   "source": [
    "sentence = \"This is a simple test to check if only words between 2 and 20 characters are returned\"\n",
    "get_words(sentence)"
   ]
  },
  {
   "cell_type": "markdown",
   "metadata": {},
   "source": [
    "# Playfield"
   ]
  },
  {
   "cell_type": "code",
   "execution_count": 5,
   "metadata": {
    "collapsed": false
   },
   "outputs": [
    {
     "name": "stdout",
     "output_type": "stream",
     "text": [
      "Using PersistentStorage: classifier.db\n"
     ]
    }
   ],
   "source": [
    "classifier = FisherClassifierService(get_features=get_words, persistent_storage=True)\n",
    "# If we are using \"get_words\"\n",
    "classifier.train('Nobody owns the water.', 'good')\n",
    "classifier.train('the quick rabbit jumps fences', 'good')\n",
    "classifier.train('buy pharmaceuticals now', 'bad')\n",
    "classifier.train('make quick money at the online casino', 'bad')\n",
    "classifier.train('the quick brown fox jumps', 'good')"
   ]
  },
  {
   "cell_type": "code",
   "execution_count": 6,
   "metadata": {
    "collapsed": false
   },
   "outputs": [
    {
     "name": "stdout",
     "output_type": "stream",
     "text": [
      "Using InMemoryStorage\n",
      "Title:     My new baby boy!\n",
      "Publisher: Shetan Noir, the zombie belly dancer! - MySpace Blog\n",
      "\n",
      "THis is my new baby, Anthem. He is a 3 and half month old ball <b>python</b>, orange shaded normal pattern. I have held him about 5 time since I brought him home tonight at 8:00pm...\n",
      "Guess: None\n",
      "Enter category: boy\n",
      "Title:     If you need a laugh...\n",
      "Publisher: Kate&#39;s space\n",
      "\n",
      "Even does 'funny walks' from Monty <b>Python</b>. He talks about all the ol' ladies that are after him. He teases me about my horror obsession. He attempts suicide. And best of all, he talks about poo. Who doesn't think poo is funny???!\n",
      "Guess: boy\n",
      "Enter category: girl\n",
      "Title:     And another one checked off the list..New pix comment ppl\n",
      "Publisher: Python Guru - MySpace Blog\n",
      "\n",
      "Now the one of a kind NERD bred Carplot male is in our possesion. His name is Broken (not because he is sterile) lol But check out the pic and leave one bitches..............\n",
      "Guess: boy\n",
      "Enter category: boy\n",
      "Title:     <b>Python</b> vs Java - It’s not only the language, it’s the tools\n",
      "Publisher: A Drop In The Stream\n",
      "\n",
      "Well, I’ve done a bit of <b>Python</b> coding by now in my new job and here’s my take on the <b>Python</b> vs. Java question. <b>Python</b> is concise and just rocks for doing tricky, complicated things using simple semantics. I just learned of a chunk of <b>...</b>\n",
      "Guess: boy\n",
      "Enter category: girl\n",
      "Title:     BF 2142 ads successfully hacked - add your own and/or block the <b>...</b>\n",
      "Publisher: Aaron Tiensivu&#39;s Blog\n",
      "\n",
      "One <b>Python</b> script exports the graphics and a different one imports the graphics. I'm not posting the source code/scripts because I don't know who to credit as the source, and I don't want any weird DMCA lawsuits sent my way for posting <b>...</b>\n",
      "Guess: boy\n",
      "Enter category: boy\n"
     ]
    }
   ],
   "source": [
    "classifier = FisherClassifierService(get_features=entry_features, persistent_storage=False)\n",
    "# If we are using \"entry_features\"\n",
    "for entry in entries[:5]:\n",
    "    # Print the contents of the entry\n",
    "    print 'Title:     ' + entry['title'].encode('utf-8')\n",
    "    print 'Publisher: ' + entry['publisher'].encode('utf-8')\n",
    "    print\n",
    "    print entry['summary'].encode('utf-8')\n",
    "\n",
    "    # Combine all the text to create one item for the classifier\n",
    "    fulltext = \"\\n\".join([entry['title'], entry['publisher'], entry['summary']])\n",
    "\n",
    "    # Print the best guess at the current category\n",
    "    print 'Guess: ' + str(classifier.classify(entry))\n",
    "\n",
    "    # Ask the user to specify the correct category and train on that\n",
    "    cl = raw_input('Enter category: ')\n",
    "    classifier.train(entry, cl)"
   ]
  },
  {
   "cell_type": "code",
   "execution_count": 7,
   "metadata": {
    "collapsed": false
   },
   "outputs": [],
   "source": [
    "if not classifier.persistent_storage:\n",
    "    classifier.fc, classifier.cc"
   ]
  },
  {
   "cell_type": "code",
   "execution_count": 8,
   "metadata": {
    "collapsed": false
   },
   "outputs": [
    {
     "data": {
      "text/plain": [
       "(0, 0)"
      ]
     },
     "execution_count": 8,
     "metadata": {},
     "output_type": "execute_result"
    }
   ],
   "source": [
    "classifier.fprob(\"money\", \"good\"), classifier.fprob(\"money\", \"bad\")"
   ]
  },
  {
   "cell_type": "code",
   "execution_count": 9,
   "metadata": {
    "collapsed": false
   },
   "outputs": [
    {
     "data": {
      "text/plain": [
       "(1.0, 1.0)"
      ]
     },
     "execution_count": 9,
     "metadata": {},
     "output_type": "execute_result"
    }
   ],
   "source": [
    "classifier.wprob(\"money\", \"good\", assumed_probability=1), classifier.wprob(\"money\", \"bad\", assumed_probability=1),"
   ]
  },
  {
   "cell_type": "code",
   "execution_count": 14,
   "metadata": {
    "collapsed": false
   },
   "outputs": [
    {
     "data": {
      "text/plain": [
       "'boy'"
      ]
     },
     "execution_count": 14,
     "metadata": {},
     "output_type": "execute_result"
    }
   ],
   "source": [
    "classifier.classify(entries[4])\n",
    "#classifier.classify(entries[])"
   ]
  },
  {
   "cell_type": "code",
   "execution_count": null,
   "metadata": {
    "collapsed": true
   },
   "outputs": [],
   "source": [
    "\n",
    "\n"
   ]
  }
 ],
 "metadata": {
  "kernelspec": {
   "display_name": "Python 2",
   "language": "python",
   "name": "python2"
  },
  "language_info": {
   "codemirror_mode": {
    "name": "ipython",
    "version": 2
   },
   "file_extension": ".py",
   "mimetype": "text/x-python",
   "name": "python",
   "nbconvert_exporter": "python",
   "pygments_lexer": "ipython2",
   "version": "2.7.10"
  }
 },
 "nbformat": 4,
 "nbformat_minor": 2
}
