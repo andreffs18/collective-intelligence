{
 "cells": [
  {
   "cell_type": "code",
   "execution_count": 1,
   "metadata": {
    "collapsed": false
   },
   "outputs": [
    {
     "data": {
      "text/html": [
       "<script>requirejs.config({paths: { 'plotly': ['https://cdn.plot.ly/plotly-latest.min']},});if(!window.Plotly) {{require(['plotly'],function(plotly) {window.Plotly=plotly;});}}</script>"
      ],
      "text/vnd.plotly.v1+html": [
       "<script>requirejs.config({paths: { 'plotly': ['https://cdn.plot.ly/plotly-latest.min']},});if(!window.Plotly) {{require(['plotly'],function(plotly) {window.Plotly=plotly;});}}</script>"
      ]
     },
     "metadata": {},
     "output_type": "display_data"
    }
   ],
   "source": [
    "import math\n",
    "import random\n",
    "import pandas as pd\n",
    "from tqdm import tqdm\n",
    "from collections import Counter\n",
    "\n",
    "import numpy as np\n",
    "from scipy import stats\n",
    "import plotly\n",
    "import plotly.plotly as py\n",
    "import plotly.figure_factory as ff\n",
    "import plotly.graph_objs as go\n",
    "plotly.offline.init_notebook_mode(connected=True)\n",
    "plotly.tools.set_credentials_file(username='andreffs18', api_key='')\n",
    "\n",
    "import requests.packages.urllib3\n",
    "requests.packages.urllib3.disable_warnings()\n",
    "\n",
    "from dorm import print_solution, dorm_cost\n",
    "from optimization import genetic_optimize, random_optimize"
   ]
  },
  {
   "cell_type": "code",
   "execution_count": 12,
   "metadata": {
    "collapsed": false
   },
   "outputs": [],
   "source": [
    "# The dorms, each of which has two available spaces\n",
    "dorms = ['Zeus', 'Athena', 'Hercules', 'Bacchus', 'Pluto']\n",
    "\n",
    "# People, along with their first and second choices\n",
    "prefs = [('Toby', ('Bacchus', 'Hercules')),\n",
    "         ('Steve', ('Zeus', 'Pluto')),\n",
    "         ('Karen', ('Athena', 'Zeus')),\n",
    "         ('Sarah', ('Zeus', 'Pluto')),\n",
    "         ('Dave', ('Athena', 'Bacchus')),\n",
    "         ('Jeff', ('Hercules', 'Pluto')),\n",
    "         ('Fred', ('Pluto', 'Athena')),\n",
    "         ('Suzie', ('Bacchus', 'Hercules')),\n",
    "         ('Laura', ('Bacchus', 'Hercules')),\n",
    "         ('James', ('Hercules', 'Athena'))]\n",
    "\n",
    "# [(0,9),(0,8),(0,7),(0,6),...,(0,0)]\n",
    "domain = [(0, (len(dorms) * 2) - i - 1) for i in range(0, len(dorms) * 2)]"
   ]
  },
  {
   "cell_type": "code",
   "execution_count": 13,
   "metadata": {
    "collapsed": false
   },
   "outputs": [
    {
     "name": "stdout",
     "output_type": "stream",
     "text": [
      "('Toby', 'Zeus')\n",
      "('Steve', 'Zeus')\n",
      "('Karen', 'Athena')\n",
      "('Sarah', 'Athena')\n",
      "('Dave', 'Hercules')\n",
      "('Jeff', 'Hercules')\n",
      "('Fred', 'Bacchus')\n",
      "('Suzie', 'Bacchus')\n",
      "('Laura', 'Pluto')\n",
      "('James', 'Pluto')\n"
     ]
    }
   ],
   "source": [
    "print_solution([0,0,0,0,0,0,0,0,0,0], dorms, prefs)"
   ]
  },
  {
   "cell_type": "code",
   "execution_count": 14,
   "metadata": {
    "collapsed": false
   },
   "outputs": [
    {
     "name": "stderr",
     "output_type": "stream",
     "text": [
      "100%|██████████| 1000/1000 [00:00<00:00, 12352.54it/s]\n"
     ]
    },
    {
     "data": {
      "text/plain": [
       "[5.0, 1.0, 0.0, 5.0, 1.0, 1.0, 3.0, 2.0, 1.0, 0.0]"
      ]
     },
     "execution_count": 14,
     "metadata": {},
     "output_type": "execute_result"
    }
   ],
   "source": [
    "random_optimize(domain, dorms, prefs, cost_func=dorm_cost)"
   ]
  },
  {
   "cell_type": "code",
   "execution_count": 15,
   "metadata": {
    "collapsed": true
   },
   "outputs": [],
   "source": [
    "s = [6.0, 0.0, 2.0, 5.0, 1.0, 2.0, 3.0, 2.0, 1.0, 0.0]"
   ]
  },
  {
   "cell_type": "code",
   "execution_count": 16,
   "metadata": {
    "collapsed": false
   },
   "outputs": [
    {
     "data": {
      "text/plain": [
       "5"
      ]
     },
     "execution_count": 16,
     "metadata": {},
     "output_type": "execute_result"
    }
   ],
   "source": [
    "dorm_cost(s, dorms, prefs)"
   ]
  },
  {
   "cell_type": "code",
   "execution_count": 21,
   "metadata": {
    "collapsed": false
   },
   "outputs": [
    {
     "name": "stderr",
     "output_type": "stream",
     "text": [
      "100%|██████████| 100/100 [00:00<00:00, 449.91it/s]\n"
     ]
    },
    {
     "data": {
      "text/plain": [
       "[4, 7, 0, 0, 0, 1, 3, 1, 1, 0]"
      ]
     },
     "execution_count": 21,
     "metadata": {},
     "output_type": "execute_result"
    }
   ],
   "source": [
    "genetic_optimize(domain, dorms, prefs, cost_func=dorm_cost, popsize=100, repeat_min_score=100)"
   ]
  },
  {
   "cell_type": "code",
   "execution_count": 22,
   "metadata": {
    "collapsed": true
   },
   "outputs": [],
   "source": [
    "s = [4, 7, 0, 0, 0, 1, 3, 1, 1, 0]"
   ]
  },
  {
   "cell_type": "code",
   "execution_count": 23,
   "metadata": {
    "collapsed": false
   },
   "outputs": [
    {
     "data": {
      "text/plain": [
       "4"
      ]
     },
     "execution_count": 23,
     "metadata": {},
     "output_type": "execute_result"
    }
   ],
   "source": [
    "dorm_cost(s, dorms, prefs)"
   ]
  },
  {
   "cell_type": "code",
   "execution_count": 25,
   "metadata": {
    "collapsed": false
   },
   "outputs": [
    {
     "name": "stdout",
     "output_type": "stream",
     "text": [
      "('Toby', 'Hercules')\n",
      "('Steve', 'Pluto')\n",
      "('Karen', 'Zeus')\n",
      "('Sarah', 'Zeus')\n",
      "('Dave', 'Athena')\n",
      "('Jeff', 'Hercules')\n",
      "('Fred', 'Pluto')\n",
      "('Suzie', 'Bacchus')\n",
      "('Laura', 'Bacchus')\n",
      "('James', 'Athena')\n"
     ]
    }
   ],
   "source": [
    "print_solution(s, dorms, prefs)"
   ]
  },
  {
   "cell_type": "code",
   "execution_count": null,
   "metadata": {
    "collapsed": true
   },
   "outputs": [],
   "source": []
  }
 ],
 "metadata": {
  "kernelspec": {
   "display_name": "Python 2",
   "language": "python",
   "name": "python2"
  },
  "language_info": {
   "codemirror_mode": {
    "name": "ipython",
    "version": 2
   },
   "file_extension": ".py",
   "mimetype": "text/x-python",
   "name": "python",
   "nbconvert_exporter": "python",
   "pygments_lexer": "ipython2",
   "version": "2.7.10"
  }
 },
 "nbformat": 4,
 "nbformat_minor": 2
}
