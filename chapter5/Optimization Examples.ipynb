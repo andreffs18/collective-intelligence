{
 "cells": [
  {
   "cell_type": "code",
   "execution_count": 1,
   "metadata": {
    "collapsed": false
   },
   "outputs": [
    {
     "data": {
      "text/html": [
       "<script>requirejs.config({paths: { 'plotly': ['https://cdn.plot.ly/plotly-latest.min']},});if(!window.Plotly) {{require(['plotly'],function(plotly) {window.Plotly=plotly;});}}</script>"
      ],
      "text/vnd.plotly.v1+html": [
       "<script>requirejs.config({paths: { 'plotly': ['https://cdn.plot.ly/plotly-latest.min']},});if(!window.Plotly) {{require(['plotly'],function(plotly) {window.Plotly=plotly;});}}</script>"
      ]
     },
     "metadata": {},
     "output_type": "display_data"
    }
   ],
   "source": [
    "import random\n",
    "import pandas as pd\n",
    "from tqdm import tqdm\n",
    "from collections import Counter\n",
    "\n",
    "import numpy as np\n",
    "from scipy import stats\n",
    "import plotly\n",
    "import plotly.plotly as py\n",
    "import plotly.figure_factory as ff\n",
    "import plotly.graph_objs as go\n",
    "plotly.offline.init_notebook_mode(connected=True)\n",
    "plotly.tools.set_credentials_file(username='andreffs18', api_key='')\n",
    "\n",
    "import requests.packages.urllib3\n",
    "requests.packages.urllib3.disable_warnings()\n",
    "\n",
    "\n",
    "from optimization import (get_flights_schedule, print_schedule, schedule_cost, \n",
    "                          random_optimize, \n",
    "                          hillclimb_optimize, \n",
    "                          annealing_optimize, \n",
    "                          genetic_optimize)"
   ]
  },
  {
   "cell_type": "code",
   "execution_count": 2,
   "metadata": {
    "collapsed": false
   },
   "outputs": [],
   "source": [
    "people = [('Seymour', 'BOS'),\n",
    "          ('Franny', 'DAL'),\n",
    "          ('Zooey', 'CAK'),\n",
    "          ('Walt', 'MIA'),\n",
    "          ('Buddy', 'ORD'),\n",
    "          ('Les', 'OMA')]\n",
    "# Laguardia\n",
    "destination = 'LGA'\n",
    "\n",
    "flights = get_flights_schedule()"
   ]
  },
  {
   "cell_type": "code",
   "execution_count": 3,
   "metadata": {
    "collapsed": false,
    "scrolled": false
   },
   "outputs": [
    {
     "name": "stdout",
     "output_type": "stream",
     "text": [
      "   Seymour       BOS  9:45-11:50 $172  8:23-10:28 $149 \t(Total: $321)\n",
      "Cost Function value: 371\n",
      "Highest Pair: (2, 1)\n",
      "   Seymour       BOS 11:16-13:29 $ 83 15:25-16:58 $ 62 \t(Total: $145)\n",
      "Cost Function value: 145\n",
      "Lowest Pair: (3, 6)\n"
     ]
    }
   ],
   "source": [
    "# Get highest and lowest pairs for Seymour\n",
    "origin = dict(people).get('Seymour')\n",
    "highest_cost = 0\n",
    "highest_pair = None\n",
    "lowest_cost = 99999\n",
    "lowest_pair = None\n",
    "for d in range(len(flights[(origin, destination)])):\n",
    "    for a in range(len(flights[(destination, origin)])):\n",
    "        cost = schedule_cost([d, a], people, flights, destination)\n",
    "        if cost > highest_cost:\n",
    "            highest_pair = (d, a)\n",
    "            highest_cost = cost\n",
    "        if cost < lowest_cost:\n",
    "            lowest_pair = (d, a)\n",
    "            lowest_cost = cost\n",
    "print_schedule((highest_pair), people, flights, destination)\n",
    "print(\"Cost Function value: {}\\nHighest Pair: {}\".format(highest_cost, highest_pair))\n",
    "print_schedule((lowest_pair), people, flights, destination)\n",
    "print(\"Cost Function value: {}\\nLowest Pair: {}\".format(lowest_cost, lowest_pair))"
   ]
  },
  {
   "cell_type": "code",
   "execution_count": 4,
   "metadata": {
    "collapsed": false
   },
   "outputs": [
    {
     "name": "stderr",
     "output_type": "stream",
     "text": [
      "100%|██████████| 9999/9999 [00:01<00:00, 6220.69it/s]\n"
     ]
    },
    {
     "data": {
      "text/plain": [
       "[3.0, 6.0]"
      ]
     },
     "execution_count": 4,
     "metadata": {},
     "output_type": "execute_result"
    }
   ],
   "source": [
    "# Compare agains random search\n",
    "# domain = [(0, 8)] * (len(people) * 2) \n",
    "domain = [(0, 8), (0, 8)]\n",
    "random_optimize(domain, people, flights, guesses=9999)"
   ]
  },
  {
   "cell_type": "code",
   "execution_count": 5,
   "metadata": {
    "collapsed": false
   },
   "outputs": [
    {
     "name": "stdout",
     "output_type": "stream",
     "text": [
      "   Seymour       BOS 11:16-13:29 $ 83 15:25-16:58 $ 62 \t(Total: $145)\n"
     ]
    }
   ],
   "source": [
    "print_schedule((3.0, 6.0), people, flights, destination)"
   ]
  },
  {
   "cell_type": "code",
   "execution_count": 6,
   "metadata": {
    "collapsed": false
   },
   "outputs": [
    {
     "data": {
      "text/plain": [
       "[8, 0, 5, 0, 8, 5, 8, 0, -2, 0, 8, 6]"
      ]
     },
     "execution_count": 6,
     "metadata": {},
     "output_type": "execute_result"
    }
   ],
   "source": [
    "domain = [(0, 8)] * (len(people) * 2)\n",
    "hillclimb_optimize(domain, people, flights)"
   ]
  },
  {
   "cell_type": "code",
   "execution_count": 7,
   "metadata": {
    "collapsed": false
   },
   "outputs": [
    {
     "data": {
      "text/plain": [
       "[7.0, 3.0, 5.0, 3.0, 7.0, 5.0, 3.0, 6.0, 6.0, 3.0, 7.0, 6.0]"
      ]
     },
     "execution_count": 7,
     "metadata": {},
     "output_type": "execute_result"
    }
   ],
   "source": [
    "domain = [(0, 8)] * (len(people) * 2)\n",
    "annealing_optimize(domain, people, flights)"
   ]
  },
  {
   "cell_type": "code",
   "execution_count": 8,
   "metadata": {
    "collapsed": false
   },
   "outputs": [
    {
     "name": "stdout",
     "output_type": "stream",
     "text": [
      "   Seymour       BOS 17:11-18:30 $108 10:33-12:03 $ 74 \t(Total: $182)\n"
     ]
    }
   ],
   "source": [
    "print_schedule((7.0, 3.0), people, flights, destination)"
   ]
  },
  {
   "cell_type": "code",
   "execution_count": 6,
   "metadata": {
    "collapsed": false
   },
   "outputs": [
    {
     "name": "stderr",
     "output_type": "stream",
     "text": [
      "  6%|▌         | 58/1000 [00:03<00:55, 16.92it/s]\n"
     ]
    },
    {
     "data": {
      "text/plain": [
       "[1, 6, 0, 5, 2, 6, 2, 6, 1, 5, 2, 7]"
      ]
     },
     "execution_count": 6,
     "metadata": {},
     "output_type": "execute_result"
    }
   ],
   "source": [
    "domain = [(0, 8)] * (len(people) * 2)\n",
    "genetic_optimize(domain, people, flights, popsize=100, step=2, mutprob=0.25, elite=0.15, maxiter=1000, repeat_min_score=50)"
   ]
  },
  {
   "cell_type": "code",
   "execution_count": 7,
   "metadata": {
    "collapsed": false
   },
   "outputs": [
    {
     "name": "stdout",
     "output_type": "stream",
     "text": [
      "   Seymour       BOS  8:04-10:11 $ 95 15:25-16:58 $ 62 \t(Total: $157)\n"
     ]
    }
   ],
   "source": [
    "print_schedule((1.0, 6.0), people, flights, destination)"
   ]
  }
 ],
 "metadata": {
  "kernelspec": {
   "display_name": "Python 2",
   "language": "python",
   "name": "python2"
  },
  "language_info": {
   "codemirror_mode": {
    "name": "ipython",
    "version": 2
   },
   "file_extension": ".py",
   "mimetype": "text/x-python",
   "name": "python",
   "nbconvert_exporter": "python",
   "pygments_lexer": "ipython2",
   "version": "2.7.10"
  }
 },
 "nbformat": 4,
 "nbformat_minor": 0
}
